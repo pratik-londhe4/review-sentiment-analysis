{
 "cells": [
  {
   "cell_type": "code",
   "execution_count": 29,
   "id": "20fba8a6-355c-4559-bdab-3bf545e51ca2",
   "metadata": {},
   "outputs": [],
   "source": [
    "import pandas as pd\n",
    "import nltk\n",
    "from nltk.corpus import stopwords\n",
    "from nltk.stem import PorterStemmer\n",
    "from nltk.tokenize import word_tokenize\n",
    "from sklearn.model_selection import train_test_split\n",
    "from sklearn.feature_extraction.text import CountVectorizer\n",
    "from sklearn.svm import SVC\n",
    "from sklearn.naive_bayes import MultinomialNB\n",
    "import pickle"
   ]
  },
  {
   "cell_type": "code",
   "execution_count": 30,
   "id": "4ddb7faa-d5ae-4e2f-8735-b49d7c89b5c9",
   "metadata": {},
   "outputs": [
    {
     "data": {
      "text/plain": [
       "reviewText    object\n",
       "sentiment     object\n",
       "dtype: object"
      ]
     },
     "execution_count": 30,
     "metadata": {},
     "output_type": "execute_result"
    }
   ],
   "source": [
    "data = pd.read_csv('oversampled_data.csv')\n",
    "data.head()\n",
    "data['reviewText'] = data['reviewText'].astype(str)\n",
    "data.dtypes"
   ]
  },
  {
   "cell_type": "code",
   "execution_count": null,
   "id": "6860c2f1-10ad-412d-b726-5130991d8828",
   "metadata": {},
   "outputs": [],
   "source": []
  },
  {
   "cell_type": "code",
   "execution_count": null,
   "id": "8ee4ad12-51b7-4d11-a961-d9dfc3784940",
   "metadata": {},
   "outputs": [],
   "source": []
  },
  {
   "cell_type": "code",
   "execution_count": null,
   "id": "7a645798-07db-4501-99c0-f473fb945ac7",
   "metadata": {},
   "outputs": [],
   "source": []
  },
  {
   "cell_type": "code",
   "execution_count": null,
   "id": "424f0bfd-29db-4783-9ee6-6ee4637cf9a8",
   "metadata": {},
   "outputs": [],
   "source": []
  },
  {
   "cell_type": "code",
   "execution_count": 31,
   "id": "79c15234-3601-4af4-934c-ed348ccb061d",
   "metadata": {},
   "outputs": [
    {
     "data": {
      "text/plain": [
       "Positive    4444\n",
       "Neutral     4444\n",
       "Negative    4444\n",
       "Name: sentiment, dtype: int64"
      ]
     },
     "execution_count": 31,
     "metadata": {},
     "output_type": "execute_result"
    }
   ],
   "source": [
    "\n",
    "data['sentiment'].value_counts()"
   ]
  },
  {
   "cell_type": "code",
   "execution_count": 32,
   "id": "52610c83-1f23-4466-b0ae-acae0b289c3e",
   "metadata": {},
   "outputs": [
    {
     "name": "stderr",
     "output_type": "stream",
     "text": [
      "[nltk_data] Downloading package stopwords to /home/pratik/nltk_data...\n",
      "[nltk_data]   Package stopwords is already up-to-date!\n"
     ]
    }
   ],
   "source": [
    "nltk.download('stopwords')\n",
    "\n",
    "# Load the CSV file\n",
    "# Preprocess the review text\n",
    "def preprocess_text(text):\n",
    "    # Convert to lowercase\n",
    "    text = text.lower()\n",
    "\n",
    "    # Tokenization\n",
    "    tokens = word_tokenize(text)\n",
    "\n",
    "    # Remove stopwords\n",
    "    stop_words = set(stopwords.words('english'))\n",
    "    filtered_tokens = [token for token in tokens if token not in stop_words]\n",
    "\n",
    "    # Stemming\n",
    "    stemmer = PorterStemmer()\n",
    "    stemmed_tokens = [stemmer.stem(token) for token in filtered_tokens]\n",
    "\n",
    "    # Join the tokens back into a single string\n",
    "    preprocessed_text = ' '.join(stemmed_tokens)\n",
    "\n",
    "    return preprocessed_text\n",
    "\n",
    "# Apply the preprocessing function to the review text column\n",
    "data['preprocessed_text'] = data['reviewText'].apply(preprocess_text)\n"
   ]
  },
  {
   "cell_type": "code",
   "execution_count": null,
   "id": "e1a8ef81-6849-4231-b509-38257a2c027d",
   "metadata": {},
   "outputs": [],
   "source": []
  },
  {
   "cell_type": "code",
   "execution_count": null,
   "id": "44bf1a53-c075-4af7-a901-bf67bf05e7e6",
   "metadata": {},
   "outputs": [],
   "source": []
  },
  {
   "cell_type": "code",
   "execution_count": 33,
   "id": "bb644aa2-9cf5-4f66-aea6-6b684ffbd768",
   "metadata": {},
   "outputs": [
    {
     "data": {
      "text/html": [
       "<div>\n",
       "<style scoped>\n",
       "    .dataframe tbody tr th:only-of-type {\n",
       "        vertical-align: middle;\n",
       "    }\n",
       "\n",
       "    .dataframe tbody tr th {\n",
       "        vertical-align: top;\n",
       "    }\n",
       "\n",
       "    .dataframe thead th {\n",
       "        text-align: right;\n",
       "    }\n",
       "</style>\n",
       "<table border=\"1\" class=\"dataframe\">\n",
       "  <thead>\n",
       "    <tr style=\"text-align: right;\">\n",
       "      <th></th>\n",
       "      <th>reviewText</th>\n",
       "      <th>sentiment</th>\n",
       "      <th>preprocessed_text</th>\n",
       "    </tr>\n",
       "  </thead>\n",
       "  <tbody>\n",
       "    <tr>\n",
       "      <th>0</th>\n",
       "      <td>No issues.</td>\n",
       "      <td>Positive</td>\n",
       "      <td>issu .</td>\n",
       "    </tr>\n",
       "    <tr>\n",
       "      <th>1</th>\n",
       "      <td>Purchased this for my device, it worked as adv...</td>\n",
       "      <td>Positive</td>\n",
       "      <td>purchas devic , work advertis . never much pho...</td>\n",
       "    </tr>\n",
       "    <tr>\n",
       "      <th>2</th>\n",
       "      <td>it works as expected. I should have sprung for...</td>\n",
       "      <td>Positive</td>\n",
       "      <td>work expect . sprung higher capac . think made...</td>\n",
       "    </tr>\n",
       "    <tr>\n",
       "      <th>3</th>\n",
       "      <td>This think has worked out great.Had a diff. br...</td>\n",
       "      <td>Positive</td>\n",
       "      <td>think work great.had diff . bran 64gb card wen...</td>\n",
       "    </tr>\n",
       "    <tr>\n",
       "      <th>4</th>\n",
       "      <td>It's mini storage.  It doesn't do anything els...</td>\n",
       "      <td>Positive</td>\n",
       "      <td>'s mini storag . n't anyth els 's suppos . pur...</td>\n",
       "    </tr>\n",
       "  </tbody>\n",
       "</table>\n",
       "</div>"
      ],
      "text/plain": [
       "                                          reviewText sentiment  \\\n",
       "0                                         No issues.  Positive   \n",
       "1  Purchased this for my device, it worked as adv...  Positive   \n",
       "2  it works as expected. I should have sprung for...  Positive   \n",
       "3  This think has worked out great.Had a diff. br...  Positive   \n",
       "4  It's mini storage.  It doesn't do anything els...  Positive   \n",
       "\n",
       "                                   preprocessed_text  \n",
       "0                                             issu .  \n",
       "1  purchas devic , work advertis . never much pho...  \n",
       "2  work expect . sprung higher capac . think made...  \n",
       "3  think work great.had diff . bran 64gb card wen...  \n",
       "4  's mini storag . n't anyth els 's suppos . pur...  "
      ]
     },
     "execution_count": 33,
     "metadata": {},
     "output_type": "execute_result"
    }
   ],
   "source": [
    "data.head()"
   ]
  },
  {
   "cell_type": "code",
   "execution_count": 34,
   "id": "77bbbc2e-c86e-4434-99cc-89e19ea99b5d",
   "metadata": {},
   "outputs": [],
   "source": [
    "train_data, test_data, train_labels, test_labels = train_test_split(\n",
    "    data['preprocessed_text'],\n",
    "    data['sentiment'],\n",
    "    test_size=0.2,\n",
    "    random_state=42\n",
    ")\n"
   ]
  },
  {
   "cell_type": "code",
   "execution_count": 35,
   "id": "13341ff8-15ef-49f4-8c62-5b063c371f54",
   "metadata": {},
   "outputs": [],
   "source": [
    "vectorizer = CountVectorizer()\n",
    "\n",
    "# Fit the vectorizer on the training data and transform the training data\n",
    "train_features = vectorizer.fit_transform(train_data)\n",
    "\n",
    "# Transform the testing data using the fitted vectorizer\n",
    "test_features = vectorizer.transform(test_data)\n"
   ]
  },
  {
   "cell_type": "code",
   "execution_count": 36,
   "id": "4be6822a-7f42-49a5-bcdb-def877f215b7",
   "metadata": {},
   "outputs": [
    {
     "name": "stdout",
     "output_type": "stream",
     "text": [
      "Accuracy: 0.9235095613048369\n"
     ]
    }
   ],
   "source": [
    "classifier = MultinomialNB()\n",
    "# Train the classifier\n",
    "classifier.fit(train_features, train_labels)\n",
    "\n",
    "# Evaluate the classifier on the testing data\n",
    "accuracy = classifier.score(test_features, test_labels)\n",
    "print('Accuracy:', accuracy)"
   ]
  },
  {
   "cell_type": "code",
   "execution_count": 37,
   "id": "e1764f5e-881e-43cb-88cd-6346ea9f737e",
   "metadata": {},
   "outputs": [
    {
     "name": "stdout",
     "output_type": "stream",
     "text": [
      "Confusion Matrix:\n",
      "[[868  21  20]\n",
      " [ 24 797  49]\n",
      " [ 45  45 798]]\n"
     ]
    },
    {
     "data": {
      "image/png": "[encoded data removed]",
      "text/plain": [
       "<Figure size 640x480 with 2 Axes>"
      ]
     },
     "metadata": {},
     "output_type": "display_data"
    }
   ],
   "source": [
    "from sklearn.metrics import confusion_matrix\n",
    "pred_labels = classifier.predict(test_features)\n",
    "import seaborn as sns\n",
    "import matplotlib.pyplot as plt\n",
    "import numpy as np\n",
    "\n",
    "# Create confusion matrix\n",
    "confusion_mat = confusion_matrix(test_labels, pred_labels)\n",
    "print('Confusion Matrix:')\n",
    "print(confusion_mat)\n",
    "# Create a heatmap of the confusion matrix\n",
    "sns.heatmap(confusion_mat, annot=True, fmt='d', cmap='Blues')\n",
    "\n",
    "# Add labels, title, and axis ticks to the heatmap\n",
    "plt.xlabel('Predicted Labels')\n",
    "plt.ylabel('True Labels')\n",
    "plt.title('Confusion Matrix')\n",
    "plt.xticks(ticks=np.arange(len(np.unique(test_labels))), labels=np.unique(test_labels))\n",
    "plt.yticks(ticks=np.arange(len(np.unique(test_labels))), labels=np.unique(test_labels))\n",
    "\n",
    "# Display the heatmap\n",
    "plt.show()"
   ]
  },
  {
   "cell_type": "code",
   "execution_count": 38,
   "id": "7a067f84-611a-4ef5-91a9-b548fbe4fccc",
   "metadata": {},
   "outputs": [
    {
     "name": "stdout",
     "output_type": "stream",
     "text": [
      "              precision    recall  f1-score   support\n",
      "\n",
      "    Negative       0.93      0.95      0.94       909\n",
      "     Neutral       0.92      0.92      0.92       870\n",
      "    Positive       0.92      0.90      0.91       888\n",
      "\n",
      "    accuracy                           0.92      2667\n",
      "   macro avg       0.92      0.92      0.92      2667\n",
      "weighted avg       0.92      0.92      0.92      2667\n",
      "\n"
     ]
    }
   ],
   "source": [
    "from sklearn.metrics import classification_report\n",
    "\n",
    "# Assuming y_test and y_pred are the true labels and predicted labels, respectively\n",
    "report = classification_report(test_labels, pred_labels)\n",
    "\n",
    "print(report)\n"
   ]
  },
  {
   "cell_type": "code",
   "execution_count": 39,
   "id": "fd6242c3-b79f-41db-8031-87f36bf02469",
   "metadata": {},
   "outputs": [
    {
     "name": "stdout",
     "output_type": "stream",
     "text": [
      "Predicted sentiment: ['Negative']\n"
     ]
    }
   ],
   "source": [
    "review = \"Hey there Mr.Oneplus Branch Head I have bought OnePlus Z2 ear phones on when it was realised at June 2022 now it's  ow working on left side of the bud and i came to the nearest service centre which is located in Rajajinagar.Now they are telling like there is slightly rubber damage in the right bud.When the durability tested in your workshop what can you guys gurranted for wear and tear?Now I am in a total loss of 1,900/-What can I am not satisfied with your OnePlus product and purchase in Amazon because got damaged before the warranty I am truly OnePlus user, but now your product is damaged and cannot be replaced due to right side rubber damage now your executives of Rajajinagar branch ARSHAD & his team and are not solving my problem and am reaching out to you with a email.Don't sell this worst product to anyone And I am totally not satisfied with your services of your products what i have purchased.I have faced WORST experience...I rate ZERO stars for your product and service.Regards your OnePlus user.Please don't buy this OnePlus Z2And please read the service terms and conditions before you guys buy it.Because it's life is only for 7-8 months.\"\n",
    "\n",
    "# Transform the review using the same vectorizer\n",
    "review_features = vectorizer.transform([review])\n",
    "\n",
    "# Classify the review\n",
    "predicted_sentiment = classifier.predict(review_features)\n",
    "\n",
    "print('Predicted sentiment:', predicted_sentiment)"
   ]
  },
  {
   "cell_type": "code",
   "execution_count": 40,
   "id": "91942eac-867e-4870-9d8c-e1b24eb0e17d",
   "metadata": {},
   "outputs": [
    {
     "name": "stdout",
     "output_type": "stream",
     "text": [
      "Training Accuracy: 0.9323956868260665\n",
      "Testing Accuracy: 0.9235095613048369\n"
     ]
    }
   ],
   "source": [
    "from sklearn.metrics import accuracy_score\n",
    "y_train_pred = classifier.predict(train_features)\n",
    "y_test_pred = classifier.predict(test_features)\n",
    "\n",
    "# Calculate accuracy for training and testing data\n",
    "train_accuracy = accuracy_score(train_labels, y_train_pred)\n",
    "test_accuracy = accuracy_score(test_labels, y_test_pred)\n",
    "\n",
    "print('Training Accuracy:', train_accuracy)\n",
    "print('Testing Accuracy:', test_accuracy)\n"
   ]
  },
  {
   "cell_type": "code",
   "execution_count": 41,
   "id": "9c5f550f-d90c-425d-9d79-17da2123abc2",
   "metadata": {},
   "outputs": [],
   "source": [
    "with open('classifier.pickle', 'wb') as file:\n",
    "    pickle.dump(classifier, file)\n",
    "\n",
    "with open('vectorizer.pickle', 'wb') as file:\n",
    "    pickle.dump(vectorizer, file)"
   ]
  },
  {
   "cell_type": "code",
   "execution_count": null,
   "id": "763771f7-d243-4d26-bb41-c88a9cb7afb3",
   "metadata": {},
   "outputs": [],
   "source": []
  }
 ],
 "metadata": {
  "kernelspec": {
   "display_name": "Python 3 (ipykernel)",
   "language": "python",
   "name": "python3"
  },
  "language_info": {
   "codemirror_mode": {
    "name": "ipython",
    "version": 3
   },
   "file_extension": ".py",
   "mimetype": "text/x-python",
   "name": "python",
   "nbconvert_exporter": "python",
   "pygments_lexer": "ipython3",
   "version": "3.10.6"
  }
 },
 "nbformat": 4,
 "nbformat_minor": 5
}
