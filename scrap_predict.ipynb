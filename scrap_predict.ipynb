{
 "cells": [
  {
   "cell_type": "code",
   "execution_count": 48,
   "id": "dfe7395a-c3f7-48e3-842b-dc3da93acd82",
   "metadata": {},
   "outputs": [
    {
     "name": "stderr",
     "output_type": "stream",
     "text": [
      "/tmp/ipykernel_50900/3494772590.py:16: DeprecationWarning: headless property is deprecated, instead use add_argument('-headless')\n",
      "  options.headless = False  # Run Firefox in headless mode\n"
     ]
    },
    {
     "name": "stdout",
     "output_type": "stream",
     "text": [
      "fetching reviews\n"
     ]
    }
   ],
   "source": [
    "import pickle\n",
    "import pandas as pd\n",
    "from selenium import webdriver\n",
    "from selenium.webdriver.firefox.service import Service\n",
    "from selenium.webdriver.common.by import By\n",
    "from selenium.webdriver.firefox.options import Options\n",
    "import time\n",
    "from selenium.common.exceptions import NoSuchElementException\n",
    "\n",
    "# Function to fetch up to 100 reviews from the product URL and append to DataFrame\n",
    "def fetch_reviews_amazon(url):\n",
    "  \n",
    "\n",
    "    # Set up Firefox WebDriver\n",
    "    options = Options()\n",
    "    options.headless = False  # Run Firefox in headless mode\n",
    "    service = Service('geckodriver')  # Path to geckodriver executable\n",
    "    driver = webdriver.Firefox(service=service, options=options)\n",
    "    driver.get(url)\n",
    "    time.sleep(2)\n",
    "    see_all_reviews_link = driver.find_element(By.XPATH, \"//a[@data-hook='see-all-reviews-link-foot']\")\n",
    "    see_all_reviews_link.click()\n",
    "    print(\"fetching reviews\")\n",
    "    \n",
    "    reviews = []\n",
    "\n",
    "    # Fetch all review elements\n",
    "    while len(reviews) < 100:\n",
    "    # Fetch all review elements on the current page\n",
    "        review_elements = driver.find_elements(By.CSS_SELECTOR, \"[data-hook='review-body']\")\n",
    "\n",
    "    # Extract the text of each review element\n",
    "        for review_element in review_elements:\n",
    "            review_text = review_element.text.strip()\n",
    "            reviews.append(review_text)\n",
    "\n",
    "        # Break the loop if the maximum number of reviews has been reached\n",
    "            if len(reviews) >= 100:\n",
    "                break\n",
    "\n",
    "    # Check if there is a next page button\n",
    "        try:\n",
    "            \n",
    "    \n",
    "            next_page_button = driver.find_element(By.LINK_TEXT, \"Next page\")\n",
    "    # Click on the next page button if it exists\n",
    "            next_page_button.click()\n",
    "            time.sleep(3)\n",
    "        except NoSuchElementException:\n",
    "            break\n",
    "\n",
    "\n",
    "    # Close the WebDriver\n",
    "    driver.quit()\n",
    "\n",
    "    df = pd.DataFrame({'review': reviews})\n",
    "\n",
    "    return df\n",
    "\n",
    "# Load the DataFrame with fetched reviews\n",
    "\n",
    "# Example usage\n",
    "product_url = 'https://www.amazon.in/Electronic-Spices-COMBO-Rosin-Soldering/dp/B07YX6SSPT/?_encoding=UTF8&pd_rd_w=dGLA6&content-id=amzn1.sym.04eccdc9-b3cd-4cc1-973f-6fc2a5bdb1a2&pf_rd_p=04eccdc9-b3cd-4cc1-973f-6fc2a5bdb1a2&pf_rd_r=AH9DBC9QQAVPJQ15ZC2W&pd_rd_wg=AfJYr&pd_rd_r=1ac5a20a-75c9-4c28-a022-067156b42fed&ref_=pd_gw_cr_wsim'\n",
    "df = fetch_reviews_amazon(product_url)\n",
    "\n",
    "# Save the updated DataFrame\n",
    "df.to_csv('reviews.csv', index=False)\n"
   ]
  },
  {
   "cell_type": "code",
   "execution_count": 49,
   "id": "ce71965b-772e-4bd1-8317-5f689aef0af9",
   "metadata": {},
   "outputs": [
    {
     "name": "stdout",
     "output_type": "stream",
     "text": [
      "                                              review predicted_sentiment\n",
      "0  The lead and paste is of decent quality, the p...            Positive\n",
      "1  Both wire and paste is of bad quality\\nPaste i...            Positive\n",
      "2  Bot the same product and very bad quality. Mis...            Negative\n",
      "3  Average product. The combination of tin and le...            Positive\n",
      "4                           Not upto my expectations            Positive\n"
     ]
    }
   ],
   "source": [
    "with open('classifier.pickle', 'rb') as file:\n",
    "    classifier = pickle.load(file)\n",
    "\n",
    "with open('vectorizer.pickle', 'rb') as file:\n",
    "    vectorizer = pickle.load(file)\n",
    "\n",
    "    \n",
    "# Function to predict sentiment using the classifier and vectorizer\n",
    "def predict_sentiment(text):\n",
    "    # Transform the text using the vectorizer\n",
    "    X = vectorizer.transform([text])\n",
    "\n",
    "    # Predict the sentiment using the classifier\n",
    "    sentiment = classifier.predict(X)\n",
    "\n",
    "    return sentiment[0]\n",
    "\n",
    "# Load the DataFrame with fetched reviews\n",
    "\n",
    "# Apply sentiment prediction to each review in the DataFrame\n",
    "df = pd.read_csv(\"reviews.csv\")\n",
    "df['review'] = df['review'].astype(str)\n",
    "df['predicted_sentiment'] = df['review'].apply(predict_sentiment)\n",
    "\n",
    "# Print the DataFrame with predicted sentiments\n",
    "print(df.head())\n",
    "\n"
   ]
  },
  {
   "cell_type": "code",
   "execution_count": 50,
   "id": "fcbfeb8b-dced-44b7-bdc9-dc64f05a6cb3",
   "metadata": {},
   "outputs": [
    {
     "data": {
      "text/plain": [
       "Positive    36\n",
       "Negative    11\n",
       "Neutral      7\n",
       "Name: predicted_sentiment, dtype: int64"
      ]
     },
     "execution_count": 50,
     "metadata": {},
     "output_type": "execute_result"
    }
   ],
   "source": [
    "df['predicted_sentiment'].value_counts()"
   ]
  },
  {
   "cell_type": "code",
   "execution_count": null,
   "id": "38ea298c-f8c0-42dc-bca7-175c481279a0",
   "metadata": {},
   "outputs": [],
   "source": []
  }
 ],
 "metadata": {
  "kernelspec": {
   "display_name": "Python 3 (ipykernel)",
   "language": "python",
   "name": "python3"
  },
  "language_info": {
   "codemirror_mode": {
    "name": "ipython",
    "version": 3
   },
   "file_extension": ".py",
   "mimetype": "text/x-python",
   "name": "python",
   "nbconvert_exporter": "python",
   "pygments_lexer": "ipython3",
   "version": "3.10.6"
  }
 },
 "nbformat": 4,
 "nbformat_minor": 5
}
