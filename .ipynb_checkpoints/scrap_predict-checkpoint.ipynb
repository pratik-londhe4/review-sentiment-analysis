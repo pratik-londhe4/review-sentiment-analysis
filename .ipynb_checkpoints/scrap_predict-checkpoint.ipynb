{
 "cells": [
  {
   "cell_type": "code",
   "execution_count": 21,
   "id": "dfe7395a-c3f7-48e3-842b-dc3da93acd82",
   "metadata": {},
   "outputs": [
    {
     "name": "stderr",
     "output_type": "stream",
     "text": [
      "/tmp/ipykernel_50900/1336417507.py:14: DeprecationWarning: headless property is deprecated, instead use add_argument('-headless')\n",
      "  options.headless = False  # Run Firefox in headless mode\n"
     ]
    },
    {
     "ename": "NameError",
     "evalue": "name 'ActionChains' is not defined",
     "output_type": "error",
     "traceback": [
      "\u001b[0;31m---------------------------------------------------------------------------\u001b[0m",
      "\u001b[0;31mNameError\u001b[0m                                 Traceback (most recent call last)",
      "Cell \u001b[0;32mIn [21], line 46\u001b[0m\n\u001b[1;32m     42\u001b[0m \u001b[38;5;66;03m# Load the DataFrame with fetched reviews\u001b[39;00m\n\u001b[1;32m     43\u001b[0m \n\u001b[1;32m     44\u001b[0m \u001b[38;5;66;03m# Example usage\u001b[39;00m\n\u001b[1;32m     45\u001b[0m product_url \u001b[38;5;241m=\u001b[39m \u001b[38;5;124m'\u001b[39m\u001b[38;5;124mhttps://www.amazon.in/OnePlus-Nord-Chromatic-128GB-Storage/dp/B0BY8MCQ9S/ref=sr_1_1?keywords=oneplus+mobiles&qid=1684660804&sprefix=one+pl\u001b[39m\u001b[38;5;124m%\u001b[39m\u001b[38;5;124m2Caps\u001b[39m\u001b[38;5;124m%\u001b[39m\u001b[38;5;124m2C328&sr=8-1\u001b[39m\u001b[38;5;124m'\u001b[39m\n\u001b[0;32m---> 46\u001b[0m df \u001b[38;5;241m=\u001b[39m \u001b[43mfetch_reviews_amazon\u001b[49m\u001b[43m(\u001b[49m\u001b[43mproduct_url\u001b[49m\u001b[43m)\u001b[49m\n\u001b[1;32m     48\u001b[0m \u001b[38;5;66;03m# Save the updated DataFrame\u001b[39;00m\n\u001b[1;32m     49\u001b[0m df\u001b[38;5;241m.\u001b[39mto_csv(\u001b[38;5;124m'\u001b[39m\u001b[38;5;124mreviews.csv\u001b[39m\u001b[38;5;124m'\u001b[39m, index\u001b[38;5;241m=\u001b[39m\u001b[38;5;28;01mFalse\u001b[39;00m)\n",
      "Cell \u001b[0;32mIn [21], line 20\u001b[0m, in \u001b[0;36mfetch_reviews_amazon\u001b[0;34m(url)\u001b[0m\n\u001b[1;32m     17\u001b[0m driver\u001b[38;5;241m.\u001b[39mget(url)\n\u001b[1;32m     19\u001b[0m see_all_reviews_button \u001b[38;5;241m=\u001b[39m driver\u001b[38;5;241m.\u001b[39mfind_element(By\u001b[38;5;241m.\u001b[39mXPATH, \u001b[38;5;124m\"\u001b[39m\u001b[38;5;124m/html/body/div[2]/div[2]/div[5]/div[30]/div/div/div/div/div/div[2]/div/div[2]/span[2]/div/div/div[4]/div[2]/a\u001b[39m\u001b[38;5;124m\"\u001b[39m)\n\u001b[0;32m---> 20\u001b[0m actions \u001b[38;5;241m=\u001b[39m \u001b[43mActionChains\u001b[49m(driver)\n\u001b[1;32m     21\u001b[0m actions\u001b[38;5;241m.\u001b[39mmove_to_element(see_all_reviews_button)\u001b[38;5;241m.\u001b[39mclick()\u001b[38;5;241m.\u001b[39mperform()\n\u001b[1;32m     25\u001b[0m \u001b[38;5;66;03m# Fetch all review elements\u001b[39;00m\n",
      "\u001b[0;31mNameError\u001b[0m: name 'ActionChains' is not defined"
     ]
    }
   ],
   "source": [
    "import pickle\n",
    "import pandas as pd\n",
    "from selenium import webdriver\n",
    "from selenium.webdriver.firefox.service import Service\n",
    "from selenium.webdriver.common.by import By\n",
    "from selenium.webdriver.firefox.options import Options\n",
    "\n",
    "# Function to fetch up to 100 reviews from the product URL and append to DataFrame\n",
    "def fetch_reviews_amazon(url):\n",
    "    reviews = []\n",
    "\n",
    "    # Set up Firefox WebDriver\n",
    "    options = Options()\n",
    "    options.headless = False  # Run Firefox in headless mode\n",
    "    service = Service('geckodriver')  # Path to geckodriver executable\n",
    "    driver = webdriver.Firefox(service=service, options=options)\n",
    "    driver.get(url)\n",
    "    \n",
    "    see_all_reviews_button = driver.find_element(By.XPATH, \"/html/body/div[2]/div[2]/div[5]/div[30]/div/div/div/div/div/div[2]/div/div[2]/span[2]/div/div/div[4]/div[2]/a\")\n",
    "    see_all_reviews_button.click()\n",
    "    \n",
    "\n",
    "    # Fetch all review elements\n",
    "    review_elements = driver.find_elements(By.CSS_SELECTOR, \"[data-hook='review-body']\")\n",
    "\n",
    "    # Extract the text of each review, up to 100 reviews or until all reviews are fetched\n",
    "    for i, review_element in enumerate(review_elements):\n",
    "        if i >= 100 or len(reviews) >= 100:\n",
    "            break\n",
    "        review_text = review_element.text.strip()\n",
    "        reviews.append(review_text)\n",
    "\n",
    "    # Close the WebDriver\n",
    "    driver.quit()\n",
    "\n",
    "    df = pd.DataFrame({'review': reviews})\n",
    "\n",
    "    return df\n",
    "\n",
    "# Load the DataFrame with fetched reviews\n",
    "\n",
    "# Example usage\n",
    "product_url = 'https://www.amazon.in/OnePlus-Nord-Chromatic-128GB-Storage/dp/B0BY8MCQ9S/ref=sr_1_1?keywords=oneplus+mobiles&qid=1684660804&sprefix=one+pl%2Caps%2C328&sr=8-1'\n",
    "df = fetch_reviews_amazon(product_url)\n",
    "\n",
    "# Save the updated DataFrame\n",
    "df.to_csv('reviews.csv', index=False)\n"
   ]
  },
  {
   "cell_type": "code",
   "execution_count": 18,
   "id": "ce71965b-772e-4bd1-8317-5f689aef0af9",
   "metadata": {},
   "outputs": [
    {
     "name": "stdout",
     "output_type": "stream",
     "text": [
      "                                              review predicted_sentiment\n",
      "0  This is my review after using it for 2 weeks, ...            Positive\n",
      "1  I have been using this phone for a week now an...            Positive\n",
      "2  Pros and Cons are briefly covered as per one w...            Positive\n",
      "3  I bought this on first day of sale 😄 as expect...            Positive\n",
      "4  Design is eye-catching,and the display, althou...            Positive\n"
     ]
    }
   ],
   "source": [
    "with open('classifier.pickle', 'rb') as file:\n",
    "    classifier = pickle.load(file)\n",
    "\n",
    "with open('vectorizer.pickle', 'rb') as file:\n",
    "    vectorizer = pickle.load(file)\n",
    "\n",
    "    \n",
    "# Function to predict sentiment using the classifier and vectorizer\n",
    "def predict_sentiment(text):\n",
    "    # Transform the text using the vectorizer\n",
    "    X = vectorizer.transform([text])\n",
    "\n",
    "    # Predict the sentiment using the classifier\n",
    "    sentiment = classifier.predict(X)\n",
    "\n",
    "    return sentiment[0]\n",
    "\n",
    "# Load the DataFrame with fetched reviews\n",
    "\n",
    "# Apply sentiment prediction to each review in the DataFrame\n",
    "df = pd.read_csv(\"reviews.csv\")\n",
    "df['predicted_sentiment'] = df['review'].apply(predict_sentiment)\n",
    "\n",
    "# Print the DataFrame with predicted sentiments\n",
    "print(df.head())\n",
    "\n"
   ]
  },
  {
   "cell_type": "code",
   "execution_count": 19,
   "id": "fcbfeb8b-dced-44b7-bdc9-dc64f05a6cb3",
   "metadata": {},
   "outputs": [
    {
     "data": {
      "text/plain": [
       "Positive    5\n",
       "Name: predicted_sentiment, dtype: int64"
      ]
     },
     "execution_count": 19,
     "metadata": {},
     "output_type": "execute_result"
    }
   ],
   "source": [
    "df['predicted_sentiment'].value_counts()"
   ]
  },
  {
   "cell_type": "code",
   "execution_count": null,
   "id": "38ea298c-f8c0-42dc-bca7-175c481279a0",
   "metadata": {},
   "outputs": [],
   "source": []
  }
 ],
 "metadata": {
  "kernelspec": {
   "display_name": "Python 3 (ipykernel)",
   "language": "python",
   "name": "python3"
  },
  "language_info": {
   "codemirror_mode": {
    "name": "ipython",
    "version": 3
   },
   "file_extension": ".py",
   "mimetype": "text/x-python",
   "name": "python",
   "nbconvert_exporter": "python",
   "pygments_lexer": "ipython3",
   "version": "3.10.6"
  }
 },
 "nbformat": 4,
 "nbformat_minor": 5
}
