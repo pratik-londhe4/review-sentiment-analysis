{
 "cells": [
  {
   "cell_type": "code",
   "execution_count": 2,
   "id": "4f527c9d-2c2f-4cdc-bf0f-13c92d1ef13a",
   "metadata": {},
   "outputs": [
    {
     "name": "stderr",
     "output_type": "stream",
     "text": [
      "/tmp/ipykernel_38979/3532763380.py:14: FutureWarning: Boolean inputs to the `inclusive` argument are deprecated in favour of `both` or `neither`.\n",
      "  data = data[data['overall'].between(1, 5, inclusive=True)]\n"
     ]
    }
   ],
   "source": [
    "import pandas as pd\n",
    "from imblearn.over_sampling import RandomOverSampler\n",
    "\n",
    "# Load the CSV file\n",
    "data = pd.read_csv('amazon_reviews.csv')\n",
    "\n",
    "# Select only the desired columns\n",
    "data = data[['id', 'overall', 'reviewText']]\n",
    "\n",
    "# Convert 'overall' column to numeric\n",
    "data['overall'] = pd.to_numeric(data['overall'], errors='coerce')\n",
    "\n",
    "# Remove reviews with 'overall' values outside the range of 1 to 5\n",
    "data = data[data['overall'].between(1, 5, inclusive=True)]\n",
    "\n",
    "# Handle missing or invalid values in the review text column\n",
    "data['reviewText'] = data['reviewText'].astype(str)\n",
    "\n",
    "# Map sentiment labels: 1-2 -> Negative, 3 -> Neutral, 4-5 -> Positive\n",
    "data['sentiment'] = data['overall'].map({1: 'Negative', 2: 'Negative', 3: 'Neutral', 4: 'Positive', 5: 'Positive'})\n",
    "\n",
    "# Separate the features and labels\n",
    "X = data['reviewText']\n",
    "y = data['sentiment']\n",
    "\n",
    "# Apply oversampling to the data\n",
    "oversampler = RandomOverSampler(random_state=42)\n",
    "X_resampled, y_resampled = oversampler.fit_resample(X.values.reshape(-1, 1), y)\n",
    "\n",
    "# Convert the oversampled data back to a DataFrame\n",
    "resampled_data = pd.DataFrame({'reviewText': X_resampled.flatten(), 'sentiment': y_resampled})\n",
    "\n",
    "# Save the resampled data to a CSV file\n",
    "resampled_data.to_csv('oversampled_data.csv', index=False)\n"
   ]
  },
  {
   "cell_type": "code",
   "execution_count": null,
   "id": "6ec89ace-174a-462a-8cf9-af44b8dabab8",
   "metadata": {},
   "outputs": [],
   "source": []
  }
 ],
 "metadata": {
  "kernelspec": {
   "display_name": "Python 3 (ipykernel)",
   "language": "python",
   "name": "python3"
  },
  "language_info": {
   "codemirror_mode": {
    "name": "ipython",
    "version": 3
   },
   "file_extension": ".py",
   "mimetype": "text/x-python",
   "name": "python",
   "nbconvert_exporter": "python",
   "pygments_lexer": "ipython3",
   "version": "3.10.6"
  }
 },
 "nbformat": 4,
 "nbformat_minor": 5
}
